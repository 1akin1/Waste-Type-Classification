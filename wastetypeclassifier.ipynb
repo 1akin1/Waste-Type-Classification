{
 "cells": [
  {
   "cell_type": "code",
   "execution_count": null,
   "id": "9cd3665a-1508-4fc2-9450-164143631f7e",
   "metadata": {},
   "outputs": [],
   "source": [
    "import os\n",
    "import numpy as np\n",
    "import pandas as pd\n",
    "from PIL import Image\n",
    "from sklearn.model_selection import train_test_split\n",
    "from sklearn.preprocessing import LabelEncoder\n",
    "from sklearn.metrics import classification_report\n",
    "import tensorflow as tf\n",
    "import matplotlib.pyplot as plt"
   ]
  },
  {
   "cell_type": "code",
   "execution_count": null,
   "id": "c55abdb0-2ae5-4dcb-8ad9-21074ac8815e",
   "metadata": {},
   "outputs": [],
   "source": [
    "# Function to load images and labels from a directory\n",
    "def load_images_from_directory(directory):\n",
    "    images = []\n",
    "    labels = []\n",
    "    for class_name in os.listdir(directory):\n",
    "        class_path = os.path.join(directory, class_name)\n",
    "        if os.path.isdir(class_path):\n",
    "            for image_name in os.listdir(class_path):\n",
    "                image_path = os.path.join(class_path, image_name)\n",
    "                try:\n",
    "                    image = Image.open(image_path).convert('RGB')\n",
    "                    image = image.resize((64, 64))\n",
    "                    image = np.array(image) / 255.0\n",
    "                    images.append(image)\n",
    "                    labels.append(class_name)\n",
    "                except Exception as e:\n",
    "                    print(f\"Error loading image {image_path}: {str(e)}\")\n",
    "    return np.array(images), np.array(labels)"
   ]
  },
  {
   "cell_type": "code",
   "execution_count": null,
   "id": "e5ee3a2b-6762-4bd8-b38e-b9eab0b8e76d",
   "metadata": {},
   "outputs": [],
   "source": [
    "# Define dataset directory (Update this before running)\n",
    "data_directory = \"dataset/\"\n",
    "train_images, train_labels = load_images_from_directory(data_directory)"
   ]
  },
  {
   "cell_type": "code",
   "execution_count": null,
   "id": "ed178c9c-a498-43b0-8f35-5161c2d7ac34",
   "metadata": {},
   "outputs": [],
   "source": [
    "# Encode labels\n",
    "label_encoder = LabelEncoder()\n",
    "train_labels = label_encoder.fit_transform(train_labels)"
   ]
  },
  {
   "cell_type": "code",
   "execution_count": null,
   "id": "fd6e06b6-e99f-4a3d-8d88-fb0b93840629",
   "metadata": {},
   "outputs": [],
   "source": [
    "# Split the data into training and validation sets\n",
    "X_train, X_val, y_train, y_val = train_test_split(train_images, \n",
    "                train_labels, test_size=0.2, random_state=42)"
   ]
  },
  {
   "cell_type": "code",
   "execution_count": null,
   "id": "9dbc025c-7fc3-482f-adcd-aa85a3043496",
   "metadata": {},
   "outputs": [],
   "source": [
    "# Get class labels\n",
    "class_labels = label_encoder.classes_\n",
    "print(\"Number of classes:\", len(class_labels))\n",
    "print(\"Class labels:\", class_labels)\n"
   ]
  },
  {
   "cell_type": "code",
   "execution_count": null,
   "id": "8cd12da2-e0d9-4c3a-a7de-af851dc7fc18",
   "metadata": {},
   "outputs": [],
   "source": [
    "# Display some sample images\n",
    "plt.figure(figsize=(15, 15))\n",
    "for i in range(25):\n",
    "    plt.subplot(5, 5, i+1)\n",
    "    plt.xticks([])\n",
    "    plt.yticks([])\n",
    "    plt.grid(False)\n",
    "    plt.imshow(X_train[i])\n",
    "    plt.xlabel(class_labels[y_train[i]])\n",
    "plt.show()"
   ]
  },
  {
   "cell_type": "code",
   "execution_count": null,
   "id": "2625946e-35db-4949-ae1f-e2c1ea93fac5",
   "metadata": {},
   "outputs": [],
   "source": [
    "# Define the CNN model\n",
    "cnn = tf.keras.models.Sequential([\n",
    "    tf.keras.layers.Input(shape=[64, 64, 3]),\n",
    "    tf.keras.layers.Conv2D(filters=32, kernel_size=3, activation='relu'),\n",
    "    tf.keras.layers.MaxPool2D(pool_size=2, strides=2),\n",
    "    tf.keras.layers.Conv2D(filters=64, kernel_size=3, activation='relu'),\n",
    "    tf.keras.layers.MaxPool2D(pool_size=2, strides=2),\n",
    "    tf.keras.layers.Conv2D(filters=128, kernel_size=3, activation='relu'),\n",
    "    tf.keras.layers.MaxPool2D(pool_size=2, strides=2),\n",
    "    tf.keras.layers.Flatten(),\n",
    "    tf.keras.layers.Dense(units=256, activation='relu'),\n",
    "    tf.keras.layers.Dropout(0.5),\n",
    "    tf.keras.layers.Dense(units=len(class_labels), activation='softmax')\n",
    "])"
   ]
  },
  {
   "cell_type": "code",
   "execution_count": null,
   "id": "ff31198e-34b3-4f4f-ad0e-1f39e1062022",
   "metadata": {},
   "outputs": [],
   "source": [
    "# Compile the model\n",
    "cnn.compile(optimizer='adam', loss='sparse_categorical_crossentropy', metrics=['accuracy'])"
   ]
  },
  {
   "cell_type": "code",
   "execution_count": null,
   "id": "6859743f-5120-4534-8acc-ee20938a16d5",
   "metadata": {},
   "outputs": [],
   "source": [
    "# Train the model\n",
    "history = cnn.fit(x=X_train, y=y_train, validation_data=(X_val, y_val), epochs=20, batch_size=32)"
   ]
  },
  {
   "cell_type": "code",
   "execution_count": null,
   "id": "e229594b-7378-443a-8fc6-934c869292dc",
   "metadata": {},
   "outputs": [],
   "source": [
    "# Plot training history\n",
    "plt.figure(figsize=(12, 6))\n",
    "plt.subplot(1, 2, 1)\n",
    "plt.plot(range(1, len(history.history['accuracy']) + 1), history.history['accuracy'], label='Training Accuracy')\n",
    "plt.plot(range(1, len(history.history['val_accuracy']) + 1), history.history['val_accuracy'], label='Validation Accuracy')\n",
    "plt.xlabel('Epoch')\n",
    "plt.ylabel('Accuracy')\n",
    "plt.title('Training and Validation Accuracy')\n",
    "plt.legend()\n",
    "\n",
    "plt.subplot(1, 2, 2)\n",
    "plt.plot(range(1, len(history.history['loss']) + 1), history.history['loss'], label='Training Loss')\n",
    "plt.plot(range(1, len(history.history['val_loss']) + 1), history.history['val_loss'], label='Validation Loss')\n",
    "plt.xlabel('Epoch')\n",
    "plt.ylabel('Loss')\n",
    "plt.title('Training and Validation Loss')\n",
    "plt.legend()\n",
    "\n",
    "plt.tight_layout()\n",
    "plt.show()"
   ]
  },
  {
   "cell_type": "code",
   "execution_count": null,
   "id": "54b2956c-6151-405d-9995-7d24cb6c5ed7",
   "metadata": {},
   "outputs": [],
   "source": [
    "# Save the model (Update this path before running)\n",
    "model_path = \"saved_model/cnn_model.h5\"\n",
    "os.makedirs(os.path.dirname(model_path), exist_ok=True)\n",
    "cnn.save(model_path)"
   ]
  },
  {
   "cell_type": "code",
   "execution_count": null,
   "id": "2e9d1c6f-912e-4c0e-9531-341c34574ee4",
   "metadata": {},
   "outputs": [],
   "source": [
    "# Evaluate the model\n",
    "y_val_pred = np.argmax(cnn.predict(X_val), axis=1)\n",
    "print(\"Validation Set Classification Report:\")\n",
    "print(classification_report(y_val, y_val_pred, target_names=class_labels))\n",
    "\n",
    "y_train_pred = np.argmax(cnn.predict(X_train), axis=1)\n",
    "print(\"Training Set Classification Report:\")\n",
    "print(classification_report(y_train, y_train_pred, target_names=class_labels))"
   ]
  },
  {
   "cell_type": "code",
   "execution_count": null,
   "id": "31182ea9-5134-482f-a2b1-cb17a16a5029",
   "metadata": {},
   "outputs": [],
   "source": [
    "# Function to predict a single image\n",
    "def predict_image(image_path):\n",
    "    test_image = Image.open(image_path).convert('RGB')\n",
    "    test_image_display = test_image.copy()\n",
    "    test_image = test_image.resize((64, 64))\n",
    "    test_image_array = np.array(test_image) / 255.0\n",
    "    test_image_array = np.expand_dims(test_image_array, axis=0)\n",
    "    \n",
    "    prediction = cnn.predict(test_image_array)\n",
    "    predicted_class = np.argmax(prediction)\n",
    "    confidence = prediction[0][predicted_class] * 100\n",
    "    \n",
    "    plt.figure(figsize=(8, 8))\n",
    "    plt.imshow(test_image_display)\n",
    "    plt.axis('off')\n",
    "    plt.title(f\"Predicted: {class_labels[predicted_class]}\\nConfidence: {confidence:.2f}%\")\n",
    "    plt.show()\n",
    "    \n",
    "    print(f\"The image is classified as '{class_labels[predicted_class]}' with {confidence:.2f}% confidence.\")"
   ]
  },
  {
   "cell_type": "code",
   "execution_count": null,
   "id": "72dbee9f-de95-4c19-939d-166d0d5fe8c9",
   "metadata": {},
   "outputs": [],
   "source": [
    "# Example usage (Update this path before running)\n",
    "test_image_path = \"test_images/sample.jpg\"\n",
    "predict_image(test_image_path)"
   ]
  }
 ],
 "metadata": {
  "kernelspec": {
   "display_name": "Python 3 (ipykernel)",
   "language": "python",
   "name": "python3"
  },
  "language_info": {
   "codemirror_mode": {
    "name": "ipython",
    "version": 3
   },
   "file_extension": ".py",
   "mimetype": "text/x-python",
   "name": "python",
   "nbconvert_exporter": "python",
   "pygments_lexer": "ipython3",
   "version": "3.10.4"
  }
 },
 "nbformat": 4,
 "nbformat_minor": 5
}
